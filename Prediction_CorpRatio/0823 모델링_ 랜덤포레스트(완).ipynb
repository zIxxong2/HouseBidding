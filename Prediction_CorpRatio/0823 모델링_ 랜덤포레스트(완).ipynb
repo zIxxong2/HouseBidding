{
 "cells": [
  {
   "cell_type": "code",
   "execution_count": 1,
   "metadata": {},
   "outputs": [],
   "source": [
    "import pandas as pd\n",
    "df_org = pd.read_excel('C:/Users/서현/Documents/Final_data_0813.xlsx')"
   ]
  },
  {
   "cell_type": "code",
   "execution_count": 2,
   "metadata": {},
   "outputs": [],
   "source": [
    "df_org.rename(columns={'C/P' : 'CP'}, inplace = True)"
   ]
  },
  {
   "cell_type": "code",
   "execution_count": 3,
   "metadata": {},
   "outputs": [],
   "source": [
    "df_org['CP'] = (df_org['CP']-1)*100"
   ]
  },
  {
   "cell_type": "code",
   "execution_count": 4,
   "metadata": {},
   "outputs": [],
   "source": [
    "# 개찰 결과의 날로 오름차순으로 정렬한뒤 하나씩 shift 해서 새로운 칼럼에 추가 \n",
    "df_org= df_org.sort_values(by=['BidOpenDateTime'], ascending=[True])\n",
    "df_org['CorpRatio_lag'] = df_org.groupby('OrderOrgCode')['CorpRatio'].shift(1)"
   ]
  },
  {
   "cell_type": "code",
   "execution_count": 5,
   "metadata": {},
   "outputs": [],
   "source": [
    "# 그룹별 평균으로 결측치 채우기 // null 값 73개가 있었는데 발주청 별 사정률로 채움 \n",
    "df_org['CorpRatio_lag'] = df_org['CorpRatio'].fillna(df_org.groupby('OrderOrgCode')['CorpRatio'].transform('mean')) "
   ]
  },
  {
   "cell_type": "code",
   "execution_count": 6,
   "metadata": {},
   "outputs": [],
   "source": [
    "df_org.drop_duplicates(['G2BNumTxt'],inplace = True)"
   ]
  },
  {
   "cell_type": "code",
   "execution_count": 7,
   "metadata": {},
   "outputs": [],
   "source": [
    "df_org = df_org[df_org.G2BNumTxt != 20210708492]"
   ]
  },
  {
   "cell_type": "code",
   "execution_count": 8,
   "metadata": {},
   "outputs": [],
   "source": [
    "df_org = df_org[['BaseCost', 'BidLimitRatio', 'HouseHold', 'GroundArea', 'Avetem', 'Rainfall', 'Avewind', 'Avehum', \"OrderOrgCode\",\"CorpRatio_lag\", \"CP\"]]"
   ]
  },
  {
   "cell_type": "code",
   "execution_count": 9,
   "metadata": {},
   "outputs": [
    {
     "data": {
      "text/html": [
       "<div>\n",
       "<style scoped>\n",
       "    .dataframe tbody tr th:only-of-type {\n",
       "        vertical-align: middle;\n",
       "    }\n",
       "\n",
       "    .dataframe tbody tr th {\n",
       "        vertical-align: top;\n",
       "    }\n",
       "\n",
       "    .dataframe thead th {\n",
       "        text-align: right;\n",
       "    }\n",
       "</style>\n",
       "<table border=\"1\" class=\"dataframe\">\n",
       "  <thead>\n",
       "    <tr style=\"text-align: right;\">\n",
       "      <th></th>\n",
       "      <th>BaseCost</th>\n",
       "      <th>BidLimitRatio</th>\n",
       "      <th>HouseHold</th>\n",
       "      <th>GroundArea</th>\n",
       "      <th>Avetem</th>\n",
       "      <th>Rainfall</th>\n",
       "      <th>Avewind</th>\n",
       "      <th>Avehum</th>\n",
       "      <th>OrderOrgCode</th>\n",
       "      <th>CorpRatio_lag</th>\n",
       "      <th>CP</th>\n",
       "    </tr>\n",
       "  </thead>\n",
       "  <tbody>\n",
       "    <tr>\n",
       "      <th>6</th>\n",
       "      <td>1203430970</td>\n",
       "      <td>0.8295</td>\n",
       "      <td>417</td>\n",
       "      <td>23638.0</td>\n",
       "      <td>25.4</td>\n",
       "      <td>0.0</td>\n",
       "      <td>3.5</td>\n",
       "      <td>49.1</td>\n",
       "      <td>충청북도</td>\n",
       "      <td>100.317525</td>\n",
       "      <td>0.029252</td>\n",
       "    </tr>\n",
       "    <tr>\n",
       "      <th>5</th>\n",
       "      <td>1219080050</td>\n",
       "      <td>0.8045</td>\n",
       "      <td>526</td>\n",
       "      <td>34995.9</td>\n",
       "      <td>26.5</td>\n",
       "      <td>0.0</td>\n",
       "      <td>4.2</td>\n",
       "      <td>40.5</td>\n",
       "      <td>강원도</td>\n",
       "      <td>98.363508</td>\n",
       "      <td>-0.823246</td>\n",
       "    </tr>\n",
       "    <tr>\n",
       "      <th>4</th>\n",
       "      <td>1180791391</td>\n",
       "      <td>0.8295</td>\n",
       "      <td>478</td>\n",
       "      <td>22053.0</td>\n",
       "      <td>24.0</td>\n",
       "      <td>0.0</td>\n",
       "      <td>2.5</td>\n",
       "      <td>62.8</td>\n",
       "      <td>경상남도</td>\n",
       "      <td>101.455236</td>\n",
       "      <td>-1.045247</td>\n",
       "    </tr>\n",
       "    <tr>\n",
       "      <th>3</th>\n",
       "      <td>2629687871</td>\n",
       "      <td>0.7295</td>\n",
       "      <td>1310</td>\n",
       "      <td>64263.0</td>\n",
       "      <td>22.7</td>\n",
       "      <td>25.0</td>\n",
       "      <td>1.5</td>\n",
       "      <td>78.1</td>\n",
       "      <td>경상남도</td>\n",
       "      <td>100.687500</td>\n",
       "      <td>0.659751</td>\n",
       "    </tr>\n",
       "    <tr>\n",
       "      <th>2</th>\n",
       "      <td>5128141104</td>\n",
       "      <td>0.7295</td>\n",
       "      <td>1967</td>\n",
       "      <td>112801.0</td>\n",
       "      <td>22.7</td>\n",
       "      <td>72.0</td>\n",
       "      <td>2.1</td>\n",
       "      <td>89.6</td>\n",
       "      <td>경기도 화성시</td>\n",
       "      <td>99.522506</td>\n",
       "      <td>-0.518999</td>\n",
       "    </tr>\n",
       "    <tr>\n",
       "      <th>...</th>\n",
       "      <td>...</td>\n",
       "      <td>...</td>\n",
       "      <td>...</td>\n",
       "      <td>...</td>\n",
       "      <td>...</td>\n",
       "      <td>...</td>\n",
       "      <td>...</td>\n",
       "      <td>...</td>\n",
       "      <td>...</td>\n",
       "      <td>...</td>\n",
       "      <td>...</td>\n",
       "    </tr>\n",
       "    <tr>\n",
       "      <th>2760</th>\n",
       "      <td>2285734794</td>\n",
       "      <td>0.8045</td>\n",
       "      <td>919</td>\n",
       "      <td>39184.4</td>\n",
       "      <td>28.8</td>\n",
       "      <td>0.0</td>\n",
       "      <td>2.2</td>\n",
       "      <td>68.4</td>\n",
       "      <td>충청북도</td>\n",
       "      <td>100.126347</td>\n",
       "      <td>-0.863248</td>\n",
       "    </tr>\n",
       "    <tr>\n",
       "      <th>2755</th>\n",
       "      <td>2446469550</td>\n",
       "      <td>0.8045</td>\n",
       "      <td>741</td>\n",
       "      <td>42077.0</td>\n",
       "      <td>28.8</td>\n",
       "      <td>0.0</td>\n",
       "      <td>2.2</td>\n",
       "      <td>68.4</td>\n",
       "      <td>경기도 평택시</td>\n",
       "      <td>100.217725</td>\n",
       "      <td>0.202002</td>\n",
       "    </tr>\n",
       "    <tr>\n",
       "      <th>2761</th>\n",
       "      <td>3281306596</td>\n",
       "      <td>0.8045</td>\n",
       "      <td>706</td>\n",
       "      <td>31110.0</td>\n",
       "      <td>27.9</td>\n",
       "      <td>0.0</td>\n",
       "      <td>1.5</td>\n",
       "      <td>75.8</td>\n",
       "      <td>경기도 이천시</td>\n",
       "      <td>98.800249</td>\n",
       "      <td>-1.547249</td>\n",
       "    </tr>\n",
       "    <tr>\n",
       "      <th>2766</th>\n",
       "      <td>1597852604</td>\n",
       "      <td>0.8045</td>\n",
       "      <td>506</td>\n",
       "      <td>19382.4</td>\n",
       "      <td>31.2</td>\n",
       "      <td>0.0</td>\n",
       "      <td>2.0</td>\n",
       "      <td>59.8</td>\n",
       "      <td>경상북도</td>\n",
       "      <td>100.260883</td>\n",
       "      <td>0.223002</td>\n",
       "    </tr>\n",
       "    <tr>\n",
       "      <th>2765</th>\n",
       "      <td>2780006253</td>\n",
       "      <td>0.8045</td>\n",
       "      <td>810</td>\n",
       "      <td>41730.7</td>\n",
       "      <td>31.2</td>\n",
       "      <td>0.0</td>\n",
       "      <td>1.8</td>\n",
       "      <td>61.8</td>\n",
       "      <td>경상남도</td>\n",
       "      <td>99.670513</td>\n",
       "      <td>-0.363747</td>\n",
       "    </tr>\n",
       "  </tbody>\n",
       "</table>\n",
       "<p>2736 rows × 11 columns</p>\n",
       "</div>"
      ],
      "text/plain": [
       "        BaseCost  BidLimitRatio  HouseHold  GroundArea  Avetem  Rainfall  \\\n",
       "6     1203430970         0.8295        417     23638.0    25.4       0.0   \n",
       "5     1219080050         0.8045        526     34995.9    26.5       0.0   \n",
       "4     1180791391         0.8295        478     22053.0    24.0       0.0   \n",
       "3     2629687871         0.7295       1310     64263.0    22.7      25.0   \n",
       "2     5128141104         0.7295       1967    112801.0    22.7      72.0   \n",
       "...          ...            ...        ...         ...     ...       ...   \n",
       "2760  2285734794         0.8045        919     39184.4    28.8       0.0   \n",
       "2755  2446469550         0.8045        741     42077.0    28.8       0.0   \n",
       "2761  3281306596         0.8045        706     31110.0    27.9       0.0   \n",
       "2766  1597852604         0.8045        506     19382.4    31.2       0.0   \n",
       "2765  2780006253         0.8045        810     41730.7    31.2       0.0   \n",
       "\n",
       "      Avewind  Avehum OrderOrgCode  CorpRatio_lag        CP  \n",
       "6         3.5    49.1         충청북도     100.317525  0.029252  \n",
       "5         4.2    40.5          강원도      98.363508 -0.823246  \n",
       "4         2.5    62.8         경상남도     101.455236 -1.045247  \n",
       "3         1.5    78.1         경상남도     100.687500  0.659751  \n",
       "2         2.1    89.6      경기도 화성시      99.522506 -0.518999  \n",
       "...       ...     ...          ...            ...       ...  \n",
       "2760      2.2    68.4         충청북도     100.126347 -0.863248  \n",
       "2755      2.2    68.4      경기도 평택시     100.217725  0.202002  \n",
       "2761      1.5    75.8      경기도 이천시      98.800249 -1.547249  \n",
       "2766      2.0    59.8         경상북도     100.260883  0.223002  \n",
       "2765      1.8    61.8         경상남도      99.670513 -0.363747  \n",
       "\n",
       "[2736 rows x 11 columns]"
      ]
     },
     "execution_count": 9,
     "metadata": {},
     "output_type": "execute_result"
    }
   ],
   "source": [
    "df_org"
   ]
  },
  {
   "cell_type": "markdown",
   "metadata": {},
   "source": [
    "### 데이터타입변환"
   ]
  },
  {
   "cell_type": "markdown",
   "metadata": {},
   "source": [
    "### 결측치처리"
   ]
  },
  {
   "cell_type": "code",
   "execution_count": 10,
   "metadata": {},
   "outputs": [],
   "source": [
    "# df.isnull().sum()"
   ]
  },
  {
   "cell_type": "markdown",
   "metadata": {},
   "source": [
    "### 범주형변수 라벨링하기"
   ]
  },
  {
   "cell_type": "code",
   "execution_count": 11,
   "metadata": {},
   "outputs": [],
   "source": [
    "from sklearn.preprocessing import LabelEncoder\n",
    "\n",
    "encoder = LabelEncoder()\n",
    "df_org['OrderOrgCode'] = encoder.fit_transform(df_org['OrderOrgCode'].values)"
   ]
  },
  {
   "cell_type": "code",
   "execution_count": 12,
   "metadata": {},
   "outputs": [],
   "source": [
    "# df['OrderOrgCode'].unique()"
   ]
  },
  {
   "cell_type": "markdown",
   "metadata": {},
   "source": [
    "### 이상치처리"
   ]
  },
  {
   "cell_type": "code",
   "execution_count": 13,
   "metadata": {},
   "outputs": [],
   "source": [
    "import matplotlib.pyplot as plt"
   ]
  },
  {
   "cell_type": "code",
   "execution_count": 14,
   "metadata": {},
   "outputs": [],
   "source": [
    "# df_org['SupervisionConstCost'].replace(2863409795000,123422836000,inplace=True)\n",
    "# df_org['SupervisionConstCost'].replace(2182338705000,93346110000,inplace=True)\n",
    "# df_org['SupervisionConstCost'].replace(2035836495000,86784270000,inplace=True)\n",
    "# df_org['SupervisionConstCost'].replace(1457057745000,61311077000,inplace=True)"
   ]
  },
  {
   "cell_type": "code",
   "execution_count": 15,
   "metadata": {},
   "outputs": [],
   "source": [
    "df_org['HouseHold'].replace(40, 64,inplace=True)\n",
    "df_org['HouseHold'].replace(52, 124,inplace=True)"
   ]
  },
  {
   "cell_type": "code",
   "execution_count": 16,
   "metadata": {},
   "outputs": [],
   "source": [
    "df_org['GroundArea'].replace(26.212, 26212,inplace=True)\n",
    "df_org['GroundArea'].replace( 57.185,  57185,inplace=True)"
   ]
  },
  {
   "cell_type": "code",
   "execution_count": 17,
   "metadata": {},
   "outputs": [],
   "source": [
    "# df_org = df_org[df_org.G2BNumTxt != 20210708492]"
   ]
  },
  {
   "cell_type": "markdown",
   "metadata": {},
   "source": [
    "### datetime 타입 변환"
   ]
  },
  {
   "cell_type": "code",
   "execution_count": 18,
   "metadata": {},
   "outputs": [],
   "source": [
    "# from datetime import date\n",
    "# date.today().strftime('%Y%m%d')\n",
    "\n",
    "# df_org['BidStartDateTime_m'] = df_org['BidStartDateTime'].dt.strftime('%m')\n",
    "# df_org['BidStartDateTime_d'] = df_org['BidStartDateTime'].dt.strftime('%d')\n",
    "\n",
    "# df_org['BidEndDateTime_m'] = df_org['BidEndDateTime'].dt.strftime('%m')\n",
    "# df_org['BidEndDateTime_d'] = df_org['BidEndDateTime'].dt.strftime('%d')\n",
    "\n",
    "# df_org['BidOpenDateTime_m'] = df_org['BidOpenDateTime'].dt.strftime('%m')\n",
    "# df_org['BidOpenDateTime_d'] = df_org['BidOpenDateTime'].dt.strftime('%d')"
   ]
  },
  {
   "cell_type": "code",
   "execution_count": 19,
   "metadata": {},
   "outputs": [],
   "source": [
    "# df_org['BidStartDateTime_HR'] = df_org['BidStartDateTime'].dt.hour\n",
    "# df_org['BidEndDateTime_HR'] = df_org['BidEndDateTime'].dt.hour\n",
    "# df_org['BidOpenDateTime_HR'] = df_org['BidOpenDateTime'].dt.hour"
   ]
  },
  {
   "cell_type": "code",
   "execution_count": 20,
   "metadata": {},
   "outputs": [],
   "source": [
    "# df_org = df_org.drop([\"BidStartDateTime\", \"BidEndDateTime\", \"BidOpenDateTime\",\"BiddingDateTime\"], axis =1 )"
   ]
  },
  {
   "cell_type": "code",
   "execution_count": 21,
   "metadata": {},
   "outputs": [],
   "source": [
    "# df_org = df_org.astype({'BidStartDateTime_HR': object})\n",
    "# df_org = df_org.astype({'BidEndDateTime_HR': object})\n",
    "# df_org = df_org.astype({'BidOpenDateTime_HR': object})"
   ]
  },
  {
   "cell_type": "markdown",
   "metadata": {},
   "source": [
    "### 변수삭제"
   ]
  },
  {
   "cell_type": "code",
   "execution_count": 22,
   "metadata": {},
   "outputs": [],
   "source": [
    "# df = df_org[['BaseCost','BidLimitRatio','HouseHold','GroundArea','Avetem','Rainfall','Avewind','Avehum', \"OrderOrgCode\",\"CP\"]]"
   ]
  },
  {
   "cell_type": "code",
   "execution_count": 23,
   "metadata": {},
   "outputs": [],
   "source": [
    "df = df_org"
   ]
  },
  {
   "cell_type": "markdown",
   "metadata": {},
   "source": [
    "### 다중공선성확인"
   ]
  },
  {
   "cell_type": "code",
   "execution_count": 24,
   "metadata": {
    "scrolled": true
   },
   "outputs": [
    {
     "data": {
      "image/png": "[encoded data removed]",
      "text/plain": [
       "<Figure size 576x576 with 2 Axes>"
      ]
     },
     "metadata": {
      "needs_background": "light"
     },
     "output_type": "display_data"
    }
   ],
   "source": [
    "# 변수간의 상관관계 파악을 위한 히트맵그리기 \n",
    "\n",
    "import seaborn as sns\n",
    "import matplotlib.pyplot as plt\n",
    "\n",
    "plt.figure(figsize=(8,8))\n",
    "sns.heatmap(df.corr(), cbar=True, annot=True, annot_kws = {'size' : 9}, cmap='YlGnBu')\n",
    "plt.show()"
   ]
  },
  {
   "cell_type": "code",
   "execution_count": 25,
   "metadata": {},
   "outputs": [],
   "source": [
    "import pandas as pd\n",
    "import seaborn as sns\n",
    "import matplotlib.pyplot as plt\n",
    "import numpy as np\n",
    "import pandas as pd\n",
    "from pandas import DataFrame, Series\n",
    "import statsmodels.api as sm\n",
    "import statsmodels.formula.api as smf\n",
    "from statsmodels.formula.api import ols"
   ]
  },
  {
   "cell_type": "code",
   "execution_count": 26,
   "metadata": {},
   "outputs": [
    {
     "data": {
      "text/html": [
       "<div>\n",
       "<style scoped>\n",
       "    .dataframe tbody tr th:only-of-type {\n",
       "        vertical-align: middle;\n",
       "    }\n",
       "\n",
       "    .dataframe tbody tr th {\n",
       "        vertical-align: top;\n",
       "    }\n",
       "\n",
       "    .dataframe thead th {\n",
       "        text-align: right;\n",
       "    }\n",
       "</style>\n",
       "<table border=\"1\" class=\"dataframe\">\n",
       "  <thead>\n",
       "    <tr style=\"text-align: right;\">\n",
       "      <th></th>\n",
       "      <th>Column</th>\n",
       "      <th>VIF</th>\n",
       "    </tr>\n",
       "  </thead>\n",
       "  <tbody>\n",
       "    <tr>\n",
       "      <th>0</th>\n",
       "      <td>BaseCost</td>\n",
       "      <td>4.622534</td>\n",
       "    </tr>\n",
       "    <tr>\n",
       "      <th>1</th>\n",
       "      <td>BidLimitRatio</td>\n",
       "      <td>2.166397</td>\n",
       "    </tr>\n",
       "    <tr>\n",
       "      <th>2</th>\n",
       "      <td>HouseHold</td>\n",
       "      <td>8.600388</td>\n",
       "    </tr>\n",
       "    <tr>\n",
       "      <th>3</th>\n",
       "      <td>GroundArea</td>\n",
       "      <td>3.137708</td>\n",
       "    </tr>\n",
       "    <tr>\n",
       "      <th>4</th>\n",
       "      <td>Avetem</td>\n",
       "      <td>1.215014</td>\n",
       "    </tr>\n",
       "    <tr>\n",
       "      <th>5</th>\n",
       "      <td>Rainfall</td>\n",
       "      <td>1.280333</td>\n",
       "    </tr>\n",
       "    <tr>\n",
       "      <th>6</th>\n",
       "      <td>Avewind</td>\n",
       "      <td>1.048263</td>\n",
       "    </tr>\n",
       "    <tr>\n",
       "      <th>7</th>\n",
       "      <td>Avehum</td>\n",
       "      <td>1.464002</td>\n",
       "    </tr>\n",
       "  </tbody>\n",
       "</table>\n",
       "</div>"
      ],
      "text/plain": [
       "          Column       VIF\n",
       "0       BaseCost  4.622534\n",
       "1  BidLimitRatio  2.166397\n",
       "2      HouseHold  8.600388\n",
       "3     GroundArea  3.137708\n",
       "4         Avetem  1.215014\n",
       "5       Rainfall  1.280333\n",
       "6        Avewind  1.048263\n",
       "7         Avehum  1.464002"
      ]
     },
     "execution_count": 26,
     "metadata": {},
     "output_type": "execute_result"
    }
   ],
   "source": [
    "# VIF확인\n",
    "from statsmodels.stats.outliers_influence import variance_inflation_factor\n",
    "from statsmodels.formula.api import ols\n",
    "\n",
    "model = ols('CP ~ BaseCost + BidLimitRatio + HouseHold + GroundArea + Avetem + Rainfall + Avewind + Avehum', df)\n",
    "\n",
    "pd.DataFrame({'Column': column, 'VIF': variance_inflation_factor(model.exog, i)} \n",
    "             for i, column in enumerate(model.exog_names)\n",
    "                 if column != 'Intercept')"
   ]
  },
  {
   "cell_type": "code",
   "execution_count": 27,
   "metadata": {},
   "outputs": [
    {
     "data": {
      "text/html": [
       "<div>\n",
       "<style scoped>\n",
       "    .dataframe tbody tr th:only-of-type {\n",
       "        vertical-align: middle;\n",
       "    }\n",
       "\n",
       "    .dataframe tbody tr th {\n",
       "        vertical-align: top;\n",
       "    }\n",
       "\n",
       "    .dataframe thead th {\n",
       "        text-align: right;\n",
       "    }\n",
       "</style>\n",
       "<table border=\"1\" class=\"dataframe\">\n",
       "  <thead>\n",
       "    <tr style=\"text-align: right;\">\n",
       "      <th></th>\n",
       "      <th>Column</th>\n",
       "      <th>VIF</th>\n",
       "    </tr>\n",
       "  </thead>\n",
       "  <tbody>\n",
       "    <tr>\n",
       "      <th>0</th>\n",
       "      <td>BaseCost</td>\n",
       "      <td>4.622534</td>\n",
       "    </tr>\n",
       "    <tr>\n",
       "      <th>1</th>\n",
       "      <td>BidLimitRatio</td>\n",
       "      <td>2.166397</td>\n",
       "    </tr>\n",
       "    <tr>\n",
       "      <th>2</th>\n",
       "      <td>HouseHold</td>\n",
       "      <td>8.600388</td>\n",
       "    </tr>\n",
       "    <tr>\n",
       "      <th>3</th>\n",
       "      <td>GroundArea</td>\n",
       "      <td>3.137708</td>\n",
       "    </tr>\n",
       "    <tr>\n",
       "      <th>4</th>\n",
       "      <td>Avetem</td>\n",
       "      <td>1.215014</td>\n",
       "    </tr>\n",
       "    <tr>\n",
       "      <th>5</th>\n",
       "      <td>Rainfall</td>\n",
       "      <td>1.280333</td>\n",
       "    </tr>\n",
       "    <tr>\n",
       "      <th>6</th>\n",
       "      <td>Avewind</td>\n",
       "      <td>1.048263</td>\n",
       "    </tr>\n",
       "    <tr>\n",
       "      <th>7</th>\n",
       "      <td>Avehum</td>\n",
       "      <td>1.464002</td>\n",
       "    </tr>\n",
       "  </tbody>\n",
       "</table>\n",
       "</div>"
      ],
      "text/plain": [
       "          Column       VIF\n",
       "0       BaseCost  4.622534\n",
       "1  BidLimitRatio  2.166397\n",
       "2      HouseHold  8.600388\n",
       "3     GroundArea  3.137708\n",
       "4         Avetem  1.215014\n",
       "5       Rainfall  1.280333\n",
       "6        Avewind  1.048263\n",
       "7         Avehum  1.464002"
      ]
     },
     "execution_count": 27,
     "metadata": {},
     "output_type": "execute_result"
    }
   ],
   "source": [
    "# VIF확인\n",
    "from statsmodels.stats.outliers_influence import variance_inflation_factor\n",
    "from statsmodels.formula.api import ols\n",
    "\n",
    "model = ols('CP ~  BaseCost + BidLimitRatio + HouseHold + GroundArea + Avetem + Rainfall + Avewind + Avehum', df)\n",
    "\n",
    "pd.DataFrame({'Column': column, 'VIF': variance_inflation_factor(model.exog, i)} \n",
    "             for i, column in enumerate(model.exog_names)\n",
    "                 if column != 'Intercept')"
   ]
  },
  {
   "cell_type": "markdown",
   "metadata": {},
   "source": [
    "### 변수 Scaling"
   ]
  },
  {
   "cell_type": "code",
   "execution_count": 28,
   "metadata": {},
   "outputs": [],
   "source": [
    "from sklearn.preprocessing import MinMaxScaler\n",
    "\n",
    "bc = pd.DataFrame(df, columns = ['BaseCost'])\n",
    "scaler =  MinMaxScaler()\n",
    "sc = scaler.fit(bc)\n",
    "bc_sc = scaler.transform(bc)\n",
    "df['BaseCost'] = bc_sc\n",
    "\n",
    "br = pd.DataFrame(df, columns = ['BidLimitRatio'])\n",
    "scaler =  MinMaxScaler()\n",
    "sc = scaler.fit(br)\n",
    "br_sc = scaler.transform(br)\n",
    "df['BidLimitRatio'] = br_sc\n",
    "\n",
    "hh = pd.DataFrame(df, columns = ['HouseHold'])\n",
    "scaler =  MinMaxScaler()\n",
    "sc = scaler.fit(hh)\n",
    "hh_sc = scaler.transform(hh)\n",
    "df['HouseHold'] = hh_sc\n",
    "\n",
    "ga = pd.DataFrame(df, columns = ['GroundArea'])\n",
    "scaler =  MinMaxScaler()\n",
    "sc = scaler.fit(ga)\n",
    "ga_sc = scaler.transform(ga)\n",
    "df['GroundArea'] = ga_sc\n",
    "\n",
    "at = pd.DataFrame(df, columns = ['Avetem'])\n",
    "scaler =  MinMaxScaler()\n",
    "sc = scaler.fit(at)\n",
    "at_sc = scaler.transform(at)\n",
    "df['Avetem'] = at_sc\n",
    "\n",
    "rf = pd.DataFrame(df, columns = ['Rainfall'])\n",
    "scaler =  MinMaxScaler()\n",
    "sc = scaler.fit(rf)\n",
    "rf_sc = scaler.transform(rf)\n",
    "df['Rainfall'] = rf_sc\n",
    "\n",
    "aw = pd.DataFrame(df, columns = ['Avewind'])\n",
    "scaler =  MinMaxScaler()\n",
    "sc = scaler.fit(aw)\n",
    "aw_sc = scaler.transform(aw)\n",
    "df['Avewind'] = aw_sc\n",
    "\n",
    "ah = pd.DataFrame(df, columns = ['Avehum'])\n",
    "scaler =  MinMaxScaler()\n",
    "sc = scaler.fit(ah)\n",
    "ah_sc = scaler.transform(ah)\n",
    "df['Avehum'] = ah_sc"
   ]
  },
  {
   "cell_type": "markdown",
   "metadata": {},
   "source": [
    "## 모델링"
   ]
  },
  {
   "cell_type": "markdown",
   "metadata": {},
   "source": [
    "## RandomForestRegressor  "
   ]
  },
  {
   "cell_type": "code",
   "execution_count": 29,
   "metadata": {},
   "outputs": [],
   "source": [
    "modling_data = df"
   ]
  },
  {
   "cell_type": "code",
   "execution_count": 30,
   "metadata": {},
   "outputs": [
    {
     "data": {
      "text/html": [
       "<div>\n",
       "<style scoped>\n",
       "    .dataframe tbody tr th:only-of-type {\n",
       "        vertical-align: middle;\n",
       "    }\n",
       "\n",
       "    .dataframe tbody tr th {\n",
       "        vertical-align: top;\n",
       "    }\n",
       "\n",
       "    .dataframe thead th {\n",
       "        text-align: right;\n",
       "    }\n",
       "</style>\n",
       "<table border=\"1\" class=\"dataframe\">\n",
       "  <thead>\n",
       "    <tr style=\"text-align: right;\">\n",
       "      <th></th>\n",
       "      <th>BaseCost</th>\n",
       "      <th>BidLimitRatio</th>\n",
       "      <th>HouseHold</th>\n",
       "      <th>GroundArea</th>\n",
       "      <th>Avetem</th>\n",
       "      <th>Rainfall</th>\n",
       "      <th>Avewind</th>\n",
       "      <th>Avehum</th>\n",
       "      <th>OrderOrgCode</th>\n",
       "      <th>CorpRatio_lag</th>\n",
       "      <th>CP</th>\n",
       "    </tr>\n",
       "  </thead>\n",
       "  <tbody>\n",
       "    <tr>\n",
       "      <th>6</th>\n",
       "      <td>0.021236</td>\n",
       "      <td>8.333333e-01</td>\n",
       "      <td>0.031761</td>\n",
       "      <td>0.031941</td>\n",
       "      <td>0.829218</td>\n",
       "      <td>0.00000</td>\n",
       "      <td>0.518519</td>\n",
       "      <td>0.340702</td>\n",
       "      <td>72</td>\n",
       "      <td>100.317525</td>\n",
       "      <td>0.029252</td>\n",
       "    </tr>\n",
       "    <tr>\n",
       "      <th>5</th>\n",
       "      <td>0.021558</td>\n",
       "      <td>6.250000e-01</td>\n",
       "      <td>0.040847</td>\n",
       "      <td>0.048960</td>\n",
       "      <td>0.851852</td>\n",
       "      <td>0.00000</td>\n",
       "      <td>0.648148</td>\n",
       "      <td>0.228869</td>\n",
       "      <td>0</td>\n",
       "      <td>98.363508</td>\n",
       "      <td>-0.823246</td>\n",
       "    </tr>\n",
       "    <tr>\n",
       "      <th>4</th>\n",
       "      <td>0.020770</td>\n",
       "      <td>8.333333e-01</td>\n",
       "      <td>0.036846</td>\n",
       "      <td>0.029566</td>\n",
       "      <td>0.800412</td>\n",
       "      <td>0.00000</td>\n",
       "      <td>0.333333</td>\n",
       "      <td>0.518856</td>\n",
       "      <td>34</td>\n",
       "      <td>101.455236</td>\n",
       "      <td>-1.045247</td>\n",
       "    </tr>\n",
       "    <tr>\n",
       "      <th>3</th>\n",
       "      <td>0.050612</td>\n",
       "      <td>1.418039e-10</td>\n",
       "      <td>0.106202</td>\n",
       "      <td>0.092814</td>\n",
       "      <td>0.773663</td>\n",
       "      <td>0.17301</td>\n",
       "      <td>0.148148</td>\n",
       "      <td>0.717815</td>\n",
       "      <td>34</td>\n",
       "      <td>100.687500</td>\n",
       "      <td>0.659751</td>\n",
       "    </tr>\n",
       "    <tr>\n",
       "      <th>2</th>\n",
       "      <td>0.102072</td>\n",
       "      <td>5.490541e-11</td>\n",
       "      <td>0.160970</td>\n",
       "      <td>0.165543</td>\n",
       "      <td>0.773663</td>\n",
       "      <td>0.49827</td>\n",
       "      <td>0.259259</td>\n",
       "      <td>0.867360</td>\n",
       "      <td>33</td>\n",
       "      <td>99.522506</td>\n",
       "      <td>-0.518999</td>\n",
       "    </tr>\n",
       "    <tr>\n",
       "      <th>...</th>\n",
       "      <td>...</td>\n",
       "      <td>...</td>\n",
       "      <td>...</td>\n",
       "      <td>...</td>\n",
       "      <td>...</td>\n",
       "      <td>...</td>\n",
       "      <td>...</td>\n",
       "      <td>...</td>\n",
       "      <td>...</td>\n",
       "      <td>...</td>\n",
       "      <td>...</td>\n",
       "    </tr>\n",
       "    <tr>\n",
       "      <th>2760</th>\n",
       "      <td>0.043528</td>\n",
       "      <td>6.250000e-01</td>\n",
       "      <td>0.073608</td>\n",
       "      <td>0.055236</td>\n",
       "      <td>0.899177</td>\n",
       "      <td>0.00000</td>\n",
       "      <td>0.277778</td>\n",
       "      <td>0.591678</td>\n",
       "      <td>72</td>\n",
       "      <td>100.126347</td>\n",
       "      <td>-0.863248</td>\n",
       "    </tr>\n",
       "    <tr>\n",
       "      <th>2755</th>\n",
       "      <td>0.046838</td>\n",
       "      <td>6.250000e-01</td>\n",
       "      <td>0.058770</td>\n",
       "      <td>0.059570</td>\n",
       "      <td>0.899177</td>\n",
       "      <td>0.00000</td>\n",
       "      <td>0.277778</td>\n",
       "      <td>0.591678</td>\n",
       "      <td>30</td>\n",
       "      <td>100.217725</td>\n",
       "      <td>0.202002</td>\n",
       "    </tr>\n",
       "    <tr>\n",
       "      <th>2761</th>\n",
       "      <td>0.064033</td>\n",
       "      <td>6.250000e-01</td>\n",
       "      <td>0.055852</td>\n",
       "      <td>0.043137</td>\n",
       "      <td>0.880658</td>\n",
       "      <td>0.00000</td>\n",
       "      <td>0.148148</td>\n",
       "      <td>0.687906</td>\n",
       "      <td>28</td>\n",
       "      <td>98.800249</td>\n",
       "      <td>-1.547249</td>\n",
       "    </tr>\n",
       "    <tr>\n",
       "      <th>2766</th>\n",
       "      <td>0.029360</td>\n",
       "      <td>6.250000e-01</td>\n",
       "      <td>0.039180</td>\n",
       "      <td>0.025564</td>\n",
       "      <td>0.948560</td>\n",
       "      <td>0.00000</td>\n",
       "      <td>0.240741</td>\n",
       "      <td>0.479844</td>\n",
       "      <td>35</td>\n",
       "      <td>100.260883</td>\n",
       "      <td>0.223002</td>\n",
       "    </tr>\n",
       "    <tr>\n",
       "      <th>2765</th>\n",
       "      <td>0.053708</td>\n",
       "      <td>6.250000e-01</td>\n",
       "      <td>0.064522</td>\n",
       "      <td>0.059051</td>\n",
       "      <td>0.948560</td>\n",
       "      <td>0.00000</td>\n",
       "      <td>0.203704</td>\n",
       "      <td>0.505852</td>\n",
       "      <td>34</td>\n",
       "      <td>99.670513</td>\n",
       "      <td>-0.363747</td>\n",
       "    </tr>\n",
       "  </tbody>\n",
       "</table>\n",
       "<p>2736 rows × 11 columns</p>\n",
       "</div>"
      ],
      "text/plain": [
       "      BaseCost  BidLimitRatio  HouseHold  GroundArea    Avetem  Rainfall  \\\n",
       "6     0.021236   8.333333e-01   0.031761    0.031941  0.829218   0.00000   \n",
       "5     0.021558   6.250000e-01   0.040847    0.048960  0.851852   0.00000   \n",
       "4     0.020770   8.333333e-01   0.036846    0.029566  0.800412   0.00000   \n",
       "3     0.050612   1.418039e-10   0.106202    0.092814  0.773663   0.17301   \n",
       "2     0.102072   5.490541e-11   0.160970    0.165543  0.773663   0.49827   \n",
       "...        ...            ...        ...         ...       ...       ...   \n",
       "2760  0.043528   6.250000e-01   0.073608    0.055236  0.899177   0.00000   \n",
       "2755  0.046838   6.250000e-01   0.058770    0.059570  0.899177   0.00000   \n",
       "2761  0.064033   6.250000e-01   0.055852    0.043137  0.880658   0.00000   \n",
       "2766  0.029360   6.250000e-01   0.039180    0.025564  0.948560   0.00000   \n",
       "2765  0.053708   6.250000e-01   0.064522    0.059051  0.948560   0.00000   \n",
       "\n",
       "       Avewind    Avehum  OrderOrgCode  CorpRatio_lag        CP  \n",
       "6     0.518519  0.340702            72     100.317525  0.029252  \n",
       "5     0.648148  0.228869             0      98.363508 -0.823246  \n",
       "4     0.333333  0.518856            34     101.455236 -1.045247  \n",
       "3     0.148148  0.717815            34     100.687500  0.659751  \n",
       "2     0.259259  0.867360            33      99.522506 -0.518999  \n",
       "...        ...       ...           ...            ...       ...  \n",
       "2760  0.277778  0.591678            72     100.126347 -0.863248  \n",
       "2755  0.277778  0.591678            30     100.217725  0.202002  \n",
       "2761  0.148148  0.687906            28      98.800249 -1.547249  \n",
       "2766  0.240741  0.479844            35     100.260883  0.223002  \n",
       "2765  0.203704  0.505852            34      99.670513 -0.363747  \n",
       "\n",
       "[2736 rows x 11 columns]"
      ]
     },
     "execution_count": 30,
     "metadata": {},
     "output_type": "execute_result"
    }
   ],
   "source": [
    "modling_data"
   ]
  },
  {
   "cell_type": "code",
   "execution_count": 31,
   "metadata": {},
   "outputs": [
    {
     "name": "stdout",
     "output_type": "stream",
     "text": [
      "(2736, 10)\n",
      "(2736,)\n"
     ]
    }
   ],
   "source": [
    "x_data = modling_data.drop('CP', axis=1).values\n",
    "print(x_data.shape)\n",
    "y_data = modling_data['CP'].values\n",
    "print(y_data.shape)"
   ]
  },
  {
   "cell_type": "code",
   "execution_count": 32,
   "metadata": {},
   "outputs": [],
   "source": [
    "import numpy as np\n",
    "import pandas as pd\n",
    "from sklearn.ensemble import RandomForestRegressor\n",
    "from sklearn.metrics import mean_squared_error, r2_score\n",
    "from sklearn import model_selection\n",
    "from sklearn.model_selection import train_test_split\n",
    "from sklearn.model_selection import KFold"
   ]
  },
  {
   "cell_type": "code",
   "execution_count": 33,
   "metadata": {},
   "outputs": [],
   "source": [
    "x_train, x_test, y_train, y_test = train_test_split(x_data, y_data, test_size=0.3, random_state=777)"
   ]
  },
  {
   "cell_type": "code",
   "execution_count": 34,
   "metadata": {},
   "outputs": [
    {
     "name": "stdout",
     "output_type": "stream",
     "text": [
      "R-squared: 0.5416114128001293\n",
      "MSE: 0.3749273601889239\n"
     ]
    }
   ],
   "source": [
    "## 하이퍼 파라미터 튜닝완료 \n",
    "model = RandomForestRegressor(n_estimators = 200, max_features= 6, max_depth= 10)\n",
    "model.fit(x_train, y_train)\n",
    "\n",
    "predict = model.predict(x_test)\n",
    "\n",
    "mse = mean_squared_error(y_test, predict)\n",
    "r2 = r2_score(y_test, predict)\n",
    "\n",
    "print(\"R-squared:\", r2)\n",
    "print(\"MSE:\", mse)"
   ]
  },
  {
   "cell_type": "code",
   "execution_count": null,
   "metadata": {},
   "outputs": [],
   "source": [
    "## 하이퍼파라미터 찾기 \n",
    "import numpy as np\n",
    "import pandas as pd\n",
    "\n",
    "from sklearn.ensemble import RandomForestRegressor\n",
    "from sklearn.model_selection import train_test_split, GridSearchCV\n",
    "from sklearn.metrics import mean_absolute_error, mean_squared_error"
   ]
  },
  {
   "cell_type": "code",
   "execution_count": null,
   "metadata": {},
   "outputs": [],
   "source": [
    "estimator = RandomForestRegressor()\n",
    "\n",
    "param_grid = {\n",
    "    \"n_estimators\":[100,200],\n",
    "     \"max_depth\":[10, 50, 100],\n",
    "     \"max_features\":[6,8,10,12,14,16]\n",
    " }\n",
    "#param_grid = {'n_estimators':[10,1,2,3,4,5,6,7,8,9], 'bootstrap':[True,False], 'criterion':['gini','entropy'], 'max_depth':[None,2,3,4,5,6], 'max_leaf_nodes':[None,2,3,4,5,6,7], 'min_samples_split':[2,3,4,5,6], 'min_samples_leaf':[1,2,3], 'max_features':[None,'sqrt','log2',5,6,7,8,9,10]}\n",
    "\n",
    "grid = GridSearchCV(estimator, param_grid=param_grid) \n",
    "#grid = GridSearchCV(estimator, param_grid=param_grid, cv=3, scoring='accuracy') #디폴트로 cv=3, 분류에서 디폴트로 scoring='accuracy'\n",
    "\n",
    "grid.fit(x_train, y_train)\n",
    "\n",
    "print( grid.best_score_)\n",
    "print( grid.best_params_)\n",
    "#df = pd.DataFrame(grid.cv_results_)\n",
    "#print(df)\n",
    "#print(df.sort_values(by='param_n_estimators'))\n",
    "#print(df.sort_values(by='param_n_estimators', ascending=0))\n",
    "#print(df.sort_values(by='rank_test_score'))"
   ]
  },
  {
   "cell_type": "code",
   "execution_count": null,
   "metadata": {},
   "outputs": [],
   "source": []
  },
  {
   "cell_type": "code",
   "execution_count": 35,
   "metadata": {},
   "outputs": [
    {
     "data": {
      "text/plain": [
       "<matplotlib.legend.Legend at 0x1e888e6caf0>"
      ]
     },
     "execution_count": 35,
     "metadata": {},
     "output_type": "execute_result"
    },
    {
     "data": {
      "image/png": "[encoded data removed]",
      "text/plain": [
       "<Figure size 432x288 with 1 Axes>"
      ]
     },
     "metadata": {
      "needs_background": "light"
     },
     "output_type": "display_data"
    }
   ],
   "source": [
    "## 실제값과 예측값 시각화 \n",
    "#test_data_label = pd.DataFrame(test_data_label.reset_index())\n",
    "#del test_data_label[\"CP\"]\n",
    "\n",
    "plt.plot(y_test, label=\"answer\")\n",
    "plt.plot(predict, label=\"predict\")\n",
    "plt.legend()"
   ]
  },
  {
   "cell_type": "code",
   "execution_count": 36,
   "metadata": {},
   "outputs": [],
   "source": [
    "colnames = modling_data.columns"
   ]
  },
  {
   "cell_type": "code",
   "execution_count": 37,
   "metadata": {},
   "outputs": [],
   "source": [
    "colnames = colnames.drop('CP')"
   ]
  },
  {
   "cell_type": "code",
   "execution_count": 38,
   "metadata": {
    "scrolled": false
   },
   "outputs": [
    {
     "data": {
      "image/png": "[encoded data removed]",
      "text/plain": [
       "<Figure size 432x288 with 1 Axes>"
      ]
     },
     "metadata": {
      "needs_background": "light"
     },
     "output_type": "display_data"
    }
   ],
   "source": [
    "## 변수 중요도 시각화 -- feature_importance\n",
    "\n",
    "def plot_feature_importance(model):\n",
    "    n_features = x_train.shape[1]\n",
    "    plt.barh(np.arange(n_features), sorted(model.feature_importances_), align=\"center\")\n",
    "    plt.yticks(np.arange(n_features), colnames)\n",
    "    plt.xlabel(\"Random Forest Feature Importance\")\n",
    "    plt.ylabel(\"Feature\")\n",
    "    plt.ylim(-1, n_features)\n",
    "    \n",
    "plot_feature_importance(model)\n",
    "\n",
    "# Scikit-learn의 디폴트 랜덤 포레스트 Feature Importance는 다소 biased하다\n",
    "# 랜덤 포레스트는 연속형 변수 또는 high cardinality의 범주형 변수들의 중요도를 더욱 부풀릴 가능성이 높음 "
   ]
  },
  {
   "cell_type": "code",
   "execution_count": 39,
   "metadata": {},
   "outputs": [],
   "source": [
    "# ## 변수 중요도 시각화 -- Permutation Importance 이용할것 \n",
    "# import eli5 \n",
    "# from eli5.sklearn import PermutationImportance \n",
    "\n",
    "# perm = PermutationImportance(model).fit(x_test, y_test) \n",
    "# eli5.show_weights(perm, top = 80, feature_names = x_test.columns.tolist())"
   ]
  },
  {
   "cell_type": "code",
   "execution_count": null,
   "metadata": {},
   "outputs": [],
   "source": []
  },
  {
   "cell_type": "code",
   "execution_count": 40,
   "metadata": {},
   "outputs": [],
   "source": [
    "score_table = pd.DataFrame({'True':y_test.flatten(),\n",
    "                            'Pred':predict})"
   ]
  },
  {
   "cell_type": "code",
   "execution_count": 41,
   "metadata": {},
   "outputs": [
    {
     "data": {
      "text/plain": [
       "(array([ 70., 313., 360.,  72.,   4.,   0.,   0.,   1.,   0.,   1.]),\n",
       " array([-2.32599787, -1.20678661, -0.08757535,  1.03163591,  2.15084717,\n",
       "         3.27005843,  4.38926969,  5.50848095,  6.62769221,  7.74690347,\n",
       "         8.86611473]),\n",
       " <a list of 10 Patch objects>)"
      ]
     },
     "execution_count": 41,
     "metadata": {},
     "output_type": "execute_result"
    },
    {
     "data": {
      "image/png": "[encoded data removed]",
      "text/plain": [
       "<Figure size 432x288 with 1 Axes>"
      ]
     },
     "metadata": {
      "needs_background": "light"
     },
     "output_type": "display_data"
    }
   ],
   "source": [
    "plt.hist(y_test)"
   ]
  },
  {
   "cell_type": "code",
   "execution_count": 42,
   "metadata": {},
   "outputs": [
    {
     "data": {
      "text/html": [
       "<div>\n",
       "<style scoped>\n",
       "    .dataframe tbody tr th:only-of-type {\n",
       "        vertical-align: middle;\n",
       "    }\n",
       "\n",
       "    .dataframe tbody tr th {\n",
       "        vertical-align: top;\n",
       "    }\n",
       "\n",
       "    .dataframe thead th {\n",
       "        text-align: right;\n",
       "    }\n",
       "</style>\n",
       "<table border=\"1\" class=\"dataframe\">\n",
       "  <thead>\n",
       "    <tr style=\"text-align: right;\">\n",
       "      <th></th>\n",
       "      <th>True</th>\n",
       "      <th>Pred</th>\n",
       "    </tr>\n",
       "  </thead>\n",
       "  <tbody>\n",
       "    <tr>\n",
       "      <th>0</th>\n",
       "      <td>-1.368748</td>\n",
       "      <td>-1.051192</td>\n",
       "    </tr>\n",
       "    <tr>\n",
       "      <th>1</th>\n",
       "      <td>0.570253</td>\n",
       "      <td>0.460791</td>\n",
       "    </tr>\n",
       "    <tr>\n",
       "      <th>2</th>\n",
       "      <td>-0.109749</td>\n",
       "      <td>-0.370665</td>\n",
       "    </tr>\n",
       "    <tr>\n",
       "      <th>3</th>\n",
       "      <td>1.019253</td>\n",
       "      <td>0.788829</td>\n",
       "    </tr>\n",
       "    <tr>\n",
       "      <th>4</th>\n",
       "      <td>-0.121749</td>\n",
       "      <td>-0.018934</td>\n",
       "    </tr>\n",
       "    <tr>\n",
       "      <th>...</th>\n",
       "      <td>...</td>\n",
       "      <td>...</td>\n",
       "    </tr>\n",
       "    <tr>\n",
       "      <th>816</th>\n",
       "      <td>0.868252</td>\n",
       "      <td>0.726734</td>\n",
       "    </tr>\n",
       "    <tr>\n",
       "      <th>817</th>\n",
       "      <td>0.024252</td>\n",
       "      <td>0.141572</td>\n",
       "    </tr>\n",
       "    <tr>\n",
       "      <th>818</th>\n",
       "      <td>0.933251</td>\n",
       "      <td>0.645681</td>\n",
       "    </tr>\n",
       "    <tr>\n",
       "      <th>819</th>\n",
       "      <td>1.099752</td>\n",
       "      <td>0.080510</td>\n",
       "    </tr>\n",
       "    <tr>\n",
       "      <th>820</th>\n",
       "      <td>0.078251</td>\n",
       "      <td>0.095213</td>\n",
       "    </tr>\n",
       "  </tbody>\n",
       "</table>\n",
       "<p>821 rows × 2 columns</p>\n",
       "</div>"
      ],
      "text/plain": [
       "         True      Pred\n",
       "0   -1.368748 -1.051192\n",
       "1    0.570253  0.460791\n",
       "2   -0.109749 -0.370665\n",
       "3    1.019253  0.788829\n",
       "4   -0.121749 -0.018934\n",
       "..        ...       ...\n",
       "816  0.868252  0.726734\n",
       "817  0.024252  0.141572\n",
       "818  0.933251  0.645681\n",
       "819  1.099752  0.080510\n",
       "820  0.078251  0.095213\n",
       "\n",
       "[821 rows x 2 columns]"
      ]
     },
     "execution_count": 42,
     "metadata": {},
     "output_type": "execute_result"
    }
   ],
   "source": [
    "score_table"
   ]
  },
  {
   "cell_type": "markdown",
   "metadata": {},
   "source": [
    "---"
   ]
  },
  {
   "cell_type": "markdown",
   "metadata": {},
   "source": [
    "#### k-fold 사용 - 랜덤포레스트  -> 미처리"
   ]
  },
  {
   "cell_type": "code",
   "execution_count": 43,
   "metadata": {},
   "outputs": [],
   "source": [
    "# pd.DataFrame(data).to_numpy()"
   ]
  },
  {
   "cell_type": "code",
   "execution_count": 44,
   "metadata": {},
   "outputs": [],
   "source": [
    "# x = modling_data.drop('CP', axis=1).values\n",
    "# print(x.shape)\n",
    "# y = modling_data['CP'].values\n",
    "# print(y.shape)"
   ]
  },
  {
   "cell_type": "code",
   "execution_count": 45,
   "metadata": {},
   "outputs": [],
   "source": [
    "# model = RandomForestRegressor(n_estimators = 10, random_state = 15)"
   ]
  },
  {
   "cell_type": "code",
   "execution_count": 46,
   "metadata": {},
   "outputs": [],
   "source": [
    "# kfold = KFold(n_splits=15,  shuffle=True, random_state=7)"
   ]
  },
  {
   "cell_type": "code",
   "execution_count": 47,
   "metadata": {
    "scrolled": true
   },
   "outputs": [],
   "source": [
    "# accuracy_list = []\n",
    "# n_iter =0\n",
    "\n",
    "# for train_index, test_index in kfold.split(x):  # data를 위에서 지정한 kfold 숫자로 분할\n",
    "#     x_train, x_test = x[train_index], x[test_index]\n",
    "#     y_train, y_test = y[train_index], y[test_index]\n",
    "    \n",
    "#     model.fit(x_train, y_train)\n",
    "#     pred = model.predict(x_test)\n",
    "#     n_iter += 1\n",
    "\n",
    "#     mse = np.sqrt(mean_squared_error(pred, y_test))\n",
    "#     print('평균제곱근오차', mse)"
   ]
  },
  {
   "cell_type": "code",
   "execution_count": null,
   "metadata": {},
   "outputs": [],
   "source": []
  }
 ],
 "metadata": {
  "kernelspec": {
   "display_name": "Python 3",
   "language": "python",
   "name": "python3"
  },
  "language_info": {
   "codemirror_mode": {
    "name": "ipython",
    "version": 3
   },
   "file_extension": ".py",
   "mimetype": "text/x-python",
   "name": "python",
   "nbconvert_exporter": "python",
   "pygments_lexer": "ipython3",
   "version": "3.8.3"
  }
 },
 "nbformat": 4,
 "nbformat_minor": 4
}
